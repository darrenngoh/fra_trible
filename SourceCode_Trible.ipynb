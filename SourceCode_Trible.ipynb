{
 "cells": [
  {
   "cell_type": "markdown",
   "metadata": {},
   "source": [
    "# Sandbox"
   ]
  },
  {
   "cell_type": "code",
   "execution_count": 5,
   "metadata": {
    "slideshow": {
     "slide_type": "-"
    }
   },
   "outputs": [],
   "source": [
    "import pandas as pd\n",
    "import numpy as np\n",
    "import matplotlib.pyplot as plt\n",
    "import seaborn as sns"
   ]
  },
  {
   "cell_type": "code",
   "execution_count": 29,
   "metadata": {},
   "outputs": [],
   "source": [
    "data = pd.read_csv(\"data.csv\")"
   ]
  },
  {
   "cell_type": "code",
   "execution_count": 12,
   "metadata": {},
   "outputs": [
    {
     "data": {
      "text/html": [
       "<div>\n",
       "<style scoped>\n",
       "    .dataframe tbody tr th:only-of-type {\n",
       "        vertical-align: middle;\n",
       "    }\n",
       "\n",
       "    .dataframe tbody tr th {\n",
       "        vertical-align: top;\n",
       "    }\n",
       "\n",
       "    .dataframe thead th {\n",
       "        text-align: right;\n",
       "    }\n",
       "</style>\n",
       "<table border=\"1\" class=\"dataframe\">\n",
       "  <thead>\n",
       "    <tr style=\"text-align: right;\">\n",
       "      <th></th>\n",
       "      <th>Age</th>\n",
       "      <th>Gender</th>\n",
       "      <th>Platform</th>\n",
       "      <th>Reason_Platform</th>\n",
       "      <th>Reason_Music</th>\n",
       "      <th>Music_Origin</th>\n",
       "      <th>Familiar</th>\n",
       "      <th>Interested_ASEAN</th>\n",
       "      <th>Do you by any chance have ever listen or came across any of these?</th>\n",
       "      <th>Relaxing Instrument</th>\n",
       "      <th>AI_Consent</th>\n",
       "      <th>Interested_Download</th>\n",
       "    </tr>\n",
       "  </thead>\n",
       "  <tbody>\n",
       "    <tr>\n",
       "      <td>0</td>\n",
       "      <td>19</td>\n",
       "      <td>Female</td>\n",
       "      <td>YouTube</td>\n",
       "      <td>Affordable Subscription Price</td>\n",
       "      <td>Lyrics and Meanings</td>\n",
       "      <td>Indonesia</td>\n",
       "      <td>Yes</td>\n",
       "      <td>Yes</td>\n",
       "      <td>Gamelan from Indonesia</td>\n",
       "      <td>Yes</td>\n",
       "      <td>Yes</td>\n",
       "      <td>Yes</td>\n",
       "    </tr>\n",
       "    <tr>\n",
       "      <td>1</td>\n",
       "      <td>19</td>\n",
       "      <td>Female</td>\n",
       "      <td>Spotify</td>\n",
       "      <td>Good Interface, Affordable Subscription Price,...</td>\n",
       "      <td>Instrument &amp; Beat</td>\n",
       "      <td>Western</td>\n",
       "      <td>Yes</td>\n",
       "      <td>Yes</td>\n",
       "      <td>Gamelan from Indonesia</td>\n",
       "      <td>Yes</td>\n",
       "      <td>Yes</td>\n",
       "      <td>No</td>\n",
       "    </tr>\n",
       "    <tr>\n",
       "      <td>2</td>\n",
       "      <td>18</td>\n",
       "      <td>Female</td>\n",
       "      <td>YouTube</td>\n",
       "      <td>Wide Range of Songs</td>\n",
       "      <td>Instrument &amp; Beat</td>\n",
       "      <td>Western</td>\n",
       "      <td>Yes</td>\n",
       "      <td>Yes</td>\n",
       "      <td>Gamelan from Indonesia, Ronggeng from Malaysia...</td>\n",
       "      <td>Yes</td>\n",
       "      <td>Yes</td>\n",
       "      <td>Yes</td>\n",
       "    </tr>\n",
       "    <tr>\n",
       "      <td>3</td>\n",
       "      <td>19</td>\n",
       "      <td>Male</td>\n",
       "      <td>YouTube</td>\n",
       "      <td>Wide Range of Songs, Lyrics are provided</td>\n",
       "      <td>Lyrics and Meanings</td>\n",
       "      <td>Japan</td>\n",
       "      <td>Yes</td>\n",
       "      <td>Yes</td>\n",
       "      <td>Gamelan from Indonesia, Ronggeng from Malaysia...</td>\n",
       "      <td>Yes</td>\n",
       "      <td>Yes</td>\n",
       "      <td>Yes</td>\n",
       "    </tr>\n",
       "    <tr>\n",
       "      <td>4</td>\n",
       "      <td>14</td>\n",
       "      <td>Female</td>\n",
       "      <td>Spotify</td>\n",
       "      <td>Lyrics are provided</td>\n",
       "      <td>Lyrics and Meanings</td>\n",
       "      <td>Western</td>\n",
       "      <td>Yes</td>\n",
       "      <td>Yes</td>\n",
       "      <td>Lao Phene from Laos, Caklempong from Malaysia</td>\n",
       "      <td>Yes</td>\n",
       "      <td>Yes</td>\n",
       "      <td>Yes</td>\n",
       "    </tr>\n",
       "    <tr>\n",
       "      <td>...</td>\n",
       "      <td>...</td>\n",
       "      <td>...</td>\n",
       "      <td>...</td>\n",
       "      <td>...</td>\n",
       "      <td>...</td>\n",
       "      <td>...</td>\n",
       "      <td>...</td>\n",
       "      <td>...</td>\n",
       "      <td>...</td>\n",
       "      <td>...</td>\n",
       "      <td>...</td>\n",
       "      <td>...</td>\n",
       "    </tr>\n",
       "    <tr>\n",
       "      <td>95</td>\n",
       "      <td>18</td>\n",
       "      <td>Male</td>\n",
       "      <td>Spotify</td>\n",
       "      <td>Good Interface, Personalised Recommendations, ...</td>\n",
       "      <td>Instrument &amp; Beat</td>\n",
       "      <td>Western</td>\n",
       "      <td>No</td>\n",
       "      <td>No</td>\n",
       "      <td>Gamelan from Indonesia</td>\n",
       "      <td>Yes</td>\n",
       "      <td>Yes</td>\n",
       "      <td>Yes</td>\n",
       "    </tr>\n",
       "    <tr>\n",
       "      <td>96</td>\n",
       "      <td>19</td>\n",
       "      <td>Male</td>\n",
       "      <td>Spotify</td>\n",
       "      <td>Affordable Subscription Price, Wide Range of S...</td>\n",
       "      <td>Lyrics and Meanings</td>\n",
       "      <td>South Korea</td>\n",
       "      <td>Yes</td>\n",
       "      <td>Yes</td>\n",
       "      <td>Gamelan from Indonesia</td>\n",
       "      <td>Yes</td>\n",
       "      <td>Yes</td>\n",
       "      <td>Yes</td>\n",
       "    </tr>\n",
       "    <tr>\n",
       "      <td>97</td>\n",
       "      <td>18</td>\n",
       "      <td>Male</td>\n",
       "      <td>Spotify</td>\n",
       "      <td>Good Interface, Personalised Recommendations, ...</td>\n",
       "      <td>Suitable Vocals</td>\n",
       "      <td>Western</td>\n",
       "      <td>Yes</td>\n",
       "      <td>Yes</td>\n",
       "      <td>Gamelan from Indonesia</td>\n",
       "      <td>Yes</td>\n",
       "      <td>Yes</td>\n",
       "      <td>Yes</td>\n",
       "    </tr>\n",
       "    <tr>\n",
       "      <td>98</td>\n",
       "      <td>18</td>\n",
       "      <td>Male</td>\n",
       "      <td>YouTube</td>\n",
       "      <td>Good Interface, Personalised Recommendations, ...</td>\n",
       "      <td>Instrument &amp; Beat</td>\n",
       "      <td>Western</td>\n",
       "      <td>No</td>\n",
       "      <td>No</td>\n",
       "      <td>NaN</td>\n",
       "      <td>Yes</td>\n",
       "      <td>Yes</td>\n",
       "      <td>No</td>\n",
       "    </tr>\n",
       "    <tr>\n",
       "      <td>99</td>\n",
       "      <td>19</td>\n",
       "      <td>Male</td>\n",
       "      <td>YouTube</td>\n",
       "      <td>Good Interface, Personalised Recommendations, ...</td>\n",
       "      <td>Instrument &amp; Beat</td>\n",
       "      <td>Indonesia</td>\n",
       "      <td>No</td>\n",
       "      <td>No</td>\n",
       "      <td>Gamelan from Indonesia, Caklempong from Malaysia</td>\n",
       "      <td>Yes</td>\n",
       "      <td>Yes</td>\n",
       "      <td>Yes</td>\n",
       "    </tr>\n",
       "  </tbody>\n",
       "</table>\n",
       "<p>100 rows × 12 columns</p>\n",
       "</div>"
      ],
      "text/plain": [
       "    Age  Gender Platform                                    Reason_Platform  \\\n",
       "0    19  Female  YouTube                      Affordable Subscription Price   \n",
       "1    19  Female  Spotify  Good Interface, Affordable Subscription Price,...   \n",
       "2    18  Female  YouTube                                Wide Range of Songs   \n",
       "3    19    Male  YouTube           Wide Range of Songs, Lyrics are provided   \n",
       "4    14  Female  Spotify                                Lyrics are provided   \n",
       "..  ...     ...      ...                                                ...   \n",
       "95   18    Male  Spotify  Good Interface, Personalised Recommendations, ...   \n",
       "96   19    Male  Spotify  Affordable Subscription Price, Wide Range of S...   \n",
       "97   18    Male  Spotify  Good Interface, Personalised Recommendations, ...   \n",
       "98   18    Male  YouTube  Good Interface, Personalised Recommendations, ...   \n",
       "99   19    Male  YouTube  Good Interface, Personalised Recommendations, ...   \n",
       "\n",
       "           Reason_Music Music_Origin Familiar Interested_ASEAN  \\\n",
       "0   Lyrics and Meanings    Indonesia      Yes              Yes   \n",
       "1     Instrument & Beat      Western      Yes              Yes   \n",
       "2     Instrument & Beat      Western      Yes              Yes   \n",
       "3   Lyrics and Meanings        Japan      Yes              Yes   \n",
       "4   Lyrics and Meanings      Western      Yes              Yes   \n",
       "..                  ...          ...      ...              ...   \n",
       "95    Instrument & Beat      Western       No               No   \n",
       "96  Lyrics and Meanings  South Korea      Yes              Yes   \n",
       "97      Suitable Vocals      Western      Yes              Yes   \n",
       "98    Instrument & Beat      Western       No               No   \n",
       "99    Instrument & Beat    Indonesia       No               No   \n",
       "\n",
       "   Do you by any chance have ever listen or came across any of these?  \\\n",
       "0                              Gamelan from Indonesia                   \n",
       "1                              Gamelan from Indonesia                   \n",
       "2   Gamelan from Indonesia, Ronggeng from Malaysia...                   \n",
       "3   Gamelan from Indonesia, Ronggeng from Malaysia...                   \n",
       "4       Lao Phene from Laos, Caklempong from Malaysia                   \n",
       "..                                                ...                   \n",
       "95                             Gamelan from Indonesia                   \n",
       "96                             Gamelan from Indonesia                   \n",
       "97                             Gamelan from Indonesia                   \n",
       "98                                                NaN                   \n",
       "99   Gamelan from Indonesia, Caklempong from Malaysia                   \n",
       "\n",
       "   Relaxing Instrument AI_Consent Interested_Download  \n",
       "0                  Yes        Yes                 Yes  \n",
       "1                  Yes        Yes                  No  \n",
       "2                  Yes        Yes                 Yes  \n",
       "3                  Yes        Yes                 Yes  \n",
       "4                  Yes        Yes                 Yes  \n",
       "..                 ...        ...                 ...  \n",
       "95                 Yes        Yes                 Yes  \n",
       "96                 Yes        Yes                 Yes  \n",
       "97                 Yes        Yes                 Yes  \n",
       "98                 Yes        Yes                  No  \n",
       "99                 Yes        Yes                 Yes  \n",
       "\n",
       "[100 rows x 12 columns]"
      ]
     },
     "execution_count": 12,
     "metadata": {},
     "output_type": "execute_result"
    }
   ],
   "source": [
    "data"
   ]
  },
  {
   "cell_type": "code",
   "execution_count": 13,
   "metadata": {},
   "outputs": [
    {
     "data": {
      "text/plain": [
       "0       Indonesia\n",
       "1         Western\n",
       "2         Western\n",
       "3           Japan\n",
       "4         Western\n",
       "         ...     \n",
       "95        Western\n",
       "96    South Korea\n",
       "97        Western\n",
       "98        Western\n",
       "99      Indonesia\n",
       "Name: Music_Origin, Length: 100, dtype: object"
      ]
     },
     "execution_count": 13,
     "metadata": {},
     "output_type": "execute_result"
    }
   ],
   "source": [
    "data['Music_Origin']"
   ]
  },
  {
   "cell_type": "code",
   "execution_count": 14,
   "metadata": {},
   "outputs": [],
   "source": [
    "countries = data['Music_Origin']"
   ]
  },
  {
   "cell_type": "code",
   "execution_count": 16,
   "metadata": {},
   "outputs": [
    {
     "name": "stderr",
     "output_type": "stream",
     "text": [
      "/opt/anaconda3/lib/python3.7/site-packages/ipykernel_launcher.py:3: SettingWithCopyWarning: \n",
      "A value is trying to be set on a copy of a slice from a DataFrame\n",
      "\n",
      "See the caveats in the documentation: http://pandas.pydata.org/pandas-docs/stable/user_guide/indexing.html#returning-a-view-versus-a-copy\n",
      "  This is separate from the ipykernel package so we can avoid doing imports until\n"
     ]
    }
   ],
   "source": [
    "for i in range(len(countries)):\n",
    "    if countries[i] != \"Western\":\n",
    "        countries[i] = \"Non-Western\""
   ]
  },
  {
   "cell_type": "code",
   "execution_count": 17,
   "metadata": {},
   "outputs": [
    {
     "data": {
      "text/plain": [
       "0     Non-Western\n",
       "1         Western\n",
       "2         Western\n",
       "3     Non-Western\n",
       "4         Western\n",
       "         ...     \n",
       "95        Western\n",
       "96    Non-Western\n",
       "97        Western\n",
       "98        Western\n",
       "99    Non-Western\n",
       "Name: Music_Origin, Length: 100, dtype: object"
      ]
     },
     "execution_count": 17,
     "metadata": {},
     "output_type": "execute_result"
    }
   ],
   "source": [
    "countries"
   ]
  },
  {
   "cell_type": "code",
   "execution_count": 18,
   "metadata": {},
   "outputs": [],
   "source": [
    "data['Music-Origin'] = countries"
   ]
  },
  {
   "cell_type": "code",
   "execution_count": 19,
   "metadata": {},
   "outputs": [
    {
     "data": {
      "text/plain": [
       "0     Non-Western\n",
       "1         Western\n",
       "2         Western\n",
       "3     Non-Western\n",
       "4         Western\n",
       "         ...     \n",
       "95        Western\n",
       "96    Non-Western\n",
       "97        Western\n",
       "98        Western\n",
       "99    Non-Western\n",
       "Name: Music-Origin, Length: 100, dtype: object"
      ]
     },
     "execution_count": 19,
     "metadata": {},
     "output_type": "execute_result"
    }
   ],
   "source": [
    "data['Music-Origin']"
   ]
  },
  {
   "cell_type": "code",
   "execution_count": 22,
   "metadata": {},
   "outputs": [],
   "source": [
    "counts = data['Music-Origin'].value_counts()"
   ]
  },
  {
   "cell_type": "code",
   "execution_count": 23,
   "metadata": {},
   "outputs": [
    {
     "data": {
      "text/plain": [
       "Western        54\n",
       "Non-Western    46\n",
       "Name: Music-Origin, dtype: int64"
      ]
     },
     "execution_count": 23,
     "metadata": {},
     "output_type": "execute_result"
    }
   ],
   "source": [
    "counts"
   ]
  },
  {
   "cell_type": "code",
   "execution_count": 22,
   "metadata": {
    "slideshow": {
     "slide_type": "-"
    }
   },
   "outputs": [
    {
     "name": "stderr",
     "output_type": "stream",
     "text": [
      "/opt/anaconda3/lib/python3.7/site-packages/ipykernel_launcher.py:4: SettingWithCopyWarning: \n",
      "A value is trying to be set on a copy of a slice from a DataFrame\n",
      "\n",
      "See the caveats in the documentation: http://pandas.pydata.org/pandas-docs/stable/user_guide/indexing.html#returning-a-view-versus-a-copy\n",
      "  after removing the cwd from sys.path.\n"
     ]
    },
    {
     "data": {
      "image/png": "[encoded data removed]",
      "text/plain": [
       "<Figure size 432x288 with 1 Axes>"
      ]
     },
     "metadata": {},
     "output_type": "display_data"
    }
   ],
   "source": [
    "countries = data['Music_Origin']\n",
    "for i in range(len(countries)):\n",
    "    if countries[i] != \"Western\":\n",
    "        countries[i] = \"Non-Western\"\n",
    "data['Music_Origin'] = countries\n",
    "\n",
    "counts = data['Music_Origin'].value_counts()\n",
    "counts_label = ['Western', 'Non-Western']\n",
    "\n",
    "plt.pie(counts, labels=counts_label, autopct='%1.1f%%', explode=(0,0.1))\n",
    "plt.title(\"Which country do most of your music you listen to originated from?\")\n",
    "plt.show()"
   ]
  },
  {
   "cell_type": "code",
   "execution_count": 38,
   "metadata": {
    "slideshow": {
     "slide_type": "subslide"
    }
   },
   "outputs": [
    {
     "data": {
      "image/png": "[encoded data removed]",
      "text/plain": [
       "<Figure size 432x288 with 1 Axes>"
      ]
     },
     "metadata": {},
     "output_type": "display_data"
    }
   ],
   "source": [
    "plt.pie(data[\"Interested_ASEAN\"].value_counts(), labels=[\"Yes\",\"No\"], autopct='%1.1f%%', explode=(0,0.1))\n",
    "plt.title(\"Are you interested in listening to music originating from Southeast Asia?\")\n",
    "plt.show()"
   ]
  },
  {
   "cell_type": "code",
   "execution_count": 40,
   "metadata": {},
   "outputs": [
    {
     "data": {
      "text/plain": [
       "0     Southeast Asian Country (Brunei, Cambodia, Ind...\n",
       "1     Southeast Asian Country (Brunei, Cambodia, Ind...\n",
       "2     Southeast Asian Country (Brunei, Cambodia, Ind...\n",
       "3     Southeast Asian Country (Brunei, Cambodia, Ind...\n",
       "4     Southeast Asian Country (Brunei, Cambodia, Ind...\n",
       "                            ...                        \n",
       "95    Southeast Asian Country (Brunei, Cambodia, Ind...\n",
       "96    Southeast Asian Country (Brunei, Cambodia, Ind...\n",
       "97    Southeast Asian Country (Brunei, Cambodia, Ind...\n",
       "98    Southeast Asian Country (Brunei, Cambodia, Ind...\n",
       "99    Southeast Asian Country (Brunei, Cambodia, Ind...\n",
       "Name: Origin, Length: 100, dtype: object"
      ]
     },
     "execution_count": 40,
     "metadata": {},
     "output_type": "execute_result"
    }
   ],
   "source": [
    "data['Origin']"
   ]
  },
  {
   "cell_type": "code",
   "execution_count": 42,
   "metadata": {
    "slideshow": {
     "slide_type": "-"
    }
   },
   "outputs": [
    {
     "data": {
      "image/png": "[encoded data removed]",
      "text/plain": [
       "<Figure size 432x288 with 1 Axes>"
      ]
     },
     "metadata": {},
     "output_type": "display_data"
    }
   ],
   "source": [
    "plt.pie(data[\"Origin\"].value_counts(), labels=[\"Southeast Asian Country (Brunei, Cambodia, Indonesia, Laos, Malaysia, Myanmar, the Philippines, Singapore, Thailand, or Vietnam)\"], autopct='%1.1f%%')\n",
    "plt.title(\"Where are you from?\")\n",
    "plt.show()"
   ]
  },
  {
   "cell_type": "code",
   "execution_count": 7,
   "metadata": {},
   "outputs": [
    {
     "data": {
      "text/html": [
       "<div>\n",
       "<style scoped>\n",
       "    .dataframe tbody tr th:only-of-type {\n",
       "        vertical-align: middle;\n",
       "    }\n",
       "\n",
       "    .dataframe tbody tr th {\n",
       "        vertical-align: top;\n",
       "    }\n",
       "\n",
       "    .dataframe thead th {\n",
       "        text-align: right;\n",
       "    }\n",
       "</style>\n",
       "<table border=\"1\" class=\"dataframe\">\n",
       "  <thead>\n",
       "    <tr style=\"text-align: right;\">\n",
       "      <th></th>\n",
       "      <th>Age</th>\n",
       "      <th>Gender</th>\n",
       "      <th>Platform</th>\n",
       "      <th>Reason_Platform</th>\n",
       "      <th>Reason_Music</th>\n",
       "      <th>Music_Origin</th>\n",
       "      <th>Familiar?</th>\n",
       "      <th>Interested_ASEAN</th>\n",
       "      <th>Do you by any chance have ever listen or came across any of these?</th>\n",
       "      <th>Relaxing Instrument</th>\n",
       "      <th>AI_Consent</th>\n",
       "      <th>Interested_Download</th>\n",
       "      <th>Origin</th>\n",
       "    </tr>\n",
       "  </thead>\n",
       "  <tbody>\n",
       "    <tr>\n",
       "      <td>0</td>\n",
       "      <td>19</td>\n",
       "      <td>Female</td>\n",
       "      <td>YouTube</td>\n",
       "      <td>Affordable Subscription Price</td>\n",
       "      <td>Lyrics and Meanings</td>\n",
       "      <td>Indonesia</td>\n",
       "      <td>Yes</td>\n",
       "      <td>Yes</td>\n",
       "      <td>Gamelan from Indonesia</td>\n",
       "      <td>Yes</td>\n",
       "      <td>Yes</td>\n",
       "      <td>Yes</td>\n",
       "      <td>Southeast Asian Country (Brunei, Cambodia, Ind...</td>\n",
       "    </tr>\n",
       "    <tr>\n",
       "      <td>1</td>\n",
       "      <td>19</td>\n",
       "      <td>Female</td>\n",
       "      <td>Spotify</td>\n",
       "      <td>Good Interface, Affordable Subscription Price,...</td>\n",
       "      <td>Instrument &amp; Beat</td>\n",
       "      <td>Western</td>\n",
       "      <td>Yes</td>\n",
       "      <td>Yes</td>\n",
       "      <td>Gamelan from Indonesia</td>\n",
       "      <td>Yes</td>\n",
       "      <td>Yes</td>\n",
       "      <td>No</td>\n",
       "      <td>Southeast Asian Country (Brunei, Cambodia, Ind...</td>\n",
       "    </tr>\n",
       "    <tr>\n",
       "      <td>2</td>\n",
       "      <td>18</td>\n",
       "      <td>Female</td>\n",
       "      <td>YouTube</td>\n",
       "      <td>Wide Range of Songs</td>\n",
       "      <td>Instrument &amp; Beat</td>\n",
       "      <td>Western</td>\n",
       "      <td>Yes</td>\n",
       "      <td>Yes</td>\n",
       "      <td>Gamelan from Indonesia, Ronggeng from Malaysia...</td>\n",
       "      <td>Yes</td>\n",
       "      <td>Yes</td>\n",
       "      <td>Yes</td>\n",
       "      <td>Southeast Asian Country (Brunei, Cambodia, Ind...</td>\n",
       "    </tr>\n",
       "    <tr>\n",
       "      <td>3</td>\n",
       "      <td>19</td>\n",
       "      <td>Male</td>\n",
       "      <td>YouTube</td>\n",
       "      <td>Wide Range of Songs, Lyrics are provided</td>\n",
       "      <td>Lyrics and Meanings</td>\n",
       "      <td>Japan</td>\n",
       "      <td>Yes</td>\n",
       "      <td>Yes</td>\n",
       "      <td>Gamelan from Indonesia, Ronggeng from Malaysia...</td>\n",
       "      <td>Yes</td>\n",
       "      <td>Yes</td>\n",
       "      <td>Yes</td>\n",
       "      <td>Southeast Asian Country (Brunei, Cambodia, Ind...</td>\n",
       "    </tr>\n",
       "    <tr>\n",
       "      <td>4</td>\n",
       "      <td>14</td>\n",
       "      <td>Female</td>\n",
       "      <td>Spotify</td>\n",
       "      <td>Lyrics are provided</td>\n",
       "      <td>Lyrics and Meanings</td>\n",
       "      <td>Western</td>\n",
       "      <td>Yes</td>\n",
       "      <td>Yes</td>\n",
       "      <td>Lao Phene from Laos, Caklempong from Malaysia</td>\n",
       "      <td>Yes</td>\n",
       "      <td>Yes</td>\n",
       "      <td>Yes</td>\n",
       "      <td>Southeast Asian Country (Brunei, Cambodia, Ind...</td>\n",
       "    </tr>\n",
       "    <tr>\n",
       "      <td>...</td>\n",
       "      <td>...</td>\n",
       "      <td>...</td>\n",
       "      <td>...</td>\n",
       "      <td>...</td>\n",
       "      <td>...</td>\n",
       "      <td>...</td>\n",
       "      <td>...</td>\n",
       "      <td>...</td>\n",
       "      <td>...</td>\n",
       "      <td>...</td>\n",
       "      <td>...</td>\n",
       "      <td>...</td>\n",
       "      <td>...</td>\n",
       "    </tr>\n",
       "    <tr>\n",
       "      <td>95</td>\n",
       "      <td>18</td>\n",
       "      <td>Male</td>\n",
       "      <td>Spotify</td>\n",
       "      <td>Good Interface, Personalised Recommendations, ...</td>\n",
       "      <td>Instrument &amp; Beat</td>\n",
       "      <td>Western</td>\n",
       "      <td>No</td>\n",
       "      <td>No</td>\n",
       "      <td>Gamelan from Indonesia</td>\n",
       "      <td>Yes</td>\n",
       "      <td>Yes</td>\n",
       "      <td>Yes</td>\n",
       "      <td>Southeast Asian Country (Brunei, Cambodia, Ind...</td>\n",
       "    </tr>\n",
       "    <tr>\n",
       "      <td>96</td>\n",
       "      <td>19</td>\n",
       "      <td>Male</td>\n",
       "      <td>Spotify</td>\n",
       "      <td>Affordable Subscription Price, Wide Range of S...</td>\n",
       "      <td>Lyrics and Meanings</td>\n",
       "      <td>South Korea</td>\n",
       "      <td>Yes</td>\n",
       "      <td>Yes</td>\n",
       "      <td>Gamelan from Indonesia</td>\n",
       "      <td>Yes</td>\n",
       "      <td>Yes</td>\n",
       "      <td>Yes</td>\n",
       "      <td>Southeast Asian Country (Brunei, Cambodia, Ind...</td>\n",
       "    </tr>\n",
       "    <tr>\n",
       "      <td>97</td>\n",
       "      <td>18</td>\n",
       "      <td>Male</td>\n",
       "      <td>Spotify</td>\n",
       "      <td>Good Interface, Personalised Recommendations, ...</td>\n",
       "      <td>Suitable Vocals</td>\n",
       "      <td>Western</td>\n",
       "      <td>Yes</td>\n",
       "      <td>Yes</td>\n",
       "      <td>Gamelan from Indonesia</td>\n",
       "      <td>Yes</td>\n",
       "      <td>Yes</td>\n",
       "      <td>Yes</td>\n",
       "      <td>Southeast Asian Country (Brunei, Cambodia, Ind...</td>\n",
       "    </tr>\n",
       "    <tr>\n",
       "      <td>98</td>\n",
       "      <td>18</td>\n",
       "      <td>Male</td>\n",
       "      <td>YouTube</td>\n",
       "      <td>Good Interface, Personalised Recommendations, ...</td>\n",
       "      <td>Instrument &amp; Beat</td>\n",
       "      <td>Western</td>\n",
       "      <td>No</td>\n",
       "      <td>No</td>\n",
       "      <td>NaN</td>\n",
       "      <td>Yes</td>\n",
       "      <td>Yes</td>\n",
       "      <td>No</td>\n",
       "      <td>Southeast Asian Country (Brunei, Cambodia, Ind...</td>\n",
       "    </tr>\n",
       "    <tr>\n",
       "      <td>99</td>\n",
       "      <td>19</td>\n",
       "      <td>Male</td>\n",
       "      <td>YouTube</td>\n",
       "      <td>Good Interface, Personalised Recommendations, ...</td>\n",
       "      <td>Instrument &amp; Beat</td>\n",
       "      <td>Indonesia</td>\n",
       "      <td>No</td>\n",
       "      <td>No</td>\n",
       "      <td>Gamelan from Indonesia, Caklempong from Malaysia</td>\n",
       "      <td>Yes</td>\n",
       "      <td>Yes</td>\n",
       "      <td>Yes</td>\n",
       "      <td>Southeast Asian Country (Brunei, Cambodia, Ind...</td>\n",
       "    </tr>\n",
       "  </tbody>\n",
       "</table>\n",
       "<p>100 rows × 13 columns</p>\n",
       "</div>"
      ],
      "text/plain": [
       "    Age  Gender Platform                                    Reason_Platform  \\\n",
       "0    19  Female  YouTube                      Affordable Subscription Price   \n",
       "1    19  Female  Spotify  Good Interface, Affordable Subscription Price,...   \n",
       "2    18  Female  YouTube                                Wide Range of Songs   \n",
       "3    19    Male  YouTube           Wide Range of Songs, Lyrics are provided   \n",
       "4    14  Female  Spotify                                Lyrics are provided   \n",
       "..  ...     ...      ...                                                ...   \n",
       "95   18    Male  Spotify  Good Interface, Personalised Recommendations, ...   \n",
       "96   19    Male  Spotify  Affordable Subscription Price, Wide Range of S...   \n",
       "97   18    Male  Spotify  Good Interface, Personalised Recommendations, ...   \n",
       "98   18    Male  YouTube  Good Interface, Personalised Recommendations, ...   \n",
       "99   19    Male  YouTube  Good Interface, Personalised Recommendations, ...   \n",
       "\n",
       "           Reason_Music Music_Origin Familiar? Interested_ASEAN  \\\n",
       "0   Lyrics and Meanings    Indonesia       Yes              Yes   \n",
       "1     Instrument & Beat      Western       Yes              Yes   \n",
       "2     Instrument & Beat      Western       Yes              Yes   \n",
       "3   Lyrics and Meanings        Japan       Yes              Yes   \n",
       "4   Lyrics and Meanings      Western       Yes              Yes   \n",
       "..                  ...          ...       ...              ...   \n",
       "95    Instrument & Beat      Western        No               No   \n",
       "96  Lyrics and Meanings  South Korea       Yes              Yes   \n",
       "97      Suitable Vocals      Western       Yes              Yes   \n",
       "98    Instrument & Beat      Western        No               No   \n",
       "99    Instrument & Beat    Indonesia        No               No   \n",
       "\n",
       "   Do you by any chance have ever listen or came across any of these?  \\\n",
       "0                              Gamelan from Indonesia                   \n",
       "1                              Gamelan from Indonesia                   \n",
       "2   Gamelan from Indonesia, Ronggeng from Malaysia...                   \n",
       "3   Gamelan from Indonesia, Ronggeng from Malaysia...                   \n",
       "4       Lao Phene from Laos, Caklempong from Malaysia                   \n",
       "..                                                ...                   \n",
       "95                             Gamelan from Indonesia                   \n",
       "96                             Gamelan from Indonesia                   \n",
       "97                             Gamelan from Indonesia                   \n",
       "98                                                NaN                   \n",
       "99   Gamelan from Indonesia, Caklempong from Malaysia                   \n",
       "\n",
       "   Relaxing Instrument AI_Consent Interested_Download  \\\n",
       "0                  Yes        Yes                 Yes   \n",
       "1                  Yes        Yes                  No   \n",
       "2                  Yes        Yes                 Yes   \n",
       "3                  Yes        Yes                 Yes   \n",
       "4                  Yes        Yes                 Yes   \n",
       "..                 ...        ...                 ...   \n",
       "95                 Yes        Yes                 Yes   \n",
       "96                 Yes        Yes                 Yes   \n",
       "97                 Yes        Yes                 Yes   \n",
       "98                 Yes        Yes                  No   \n",
       "99                 Yes        Yes                 Yes   \n",
       "\n",
       "                                               Origin  \n",
       "0   Southeast Asian Country (Brunei, Cambodia, Ind...  \n",
       "1   Southeast Asian Country (Brunei, Cambodia, Ind...  \n",
       "2   Southeast Asian Country (Brunei, Cambodia, Ind...  \n",
       "3   Southeast Asian Country (Brunei, Cambodia, Ind...  \n",
       "4   Southeast Asian Country (Brunei, Cambodia, Ind...  \n",
       "..                                                ...  \n",
       "95  Southeast Asian Country (Brunei, Cambodia, Ind...  \n",
       "96  Southeast Asian Country (Brunei, Cambodia, Ind...  \n",
       "97  Southeast Asian Country (Brunei, Cambodia, Ind...  \n",
       "98  Southeast Asian Country (Brunei, Cambodia, Ind...  \n",
       "99  Southeast Asian Country (Brunei, Cambodia, Ind...  \n",
       "\n",
       "[100 rows x 13 columns]"
      ]
     },
     "execution_count": 7,
     "metadata": {},
     "output_type": "execute_result"
    }
   ],
   "source": [
    "data"
   ]
  },
  {
   "cell_type": "code",
   "execution_count": 30,
   "metadata": {
    "slideshow": {
     "slide_type": "slide"
    }
   },
   "outputs": [
    {
     "name": "stderr",
     "output_type": "stream",
     "text": [
      "/opt/anaconda3/lib/python3.7/site-packages/ipykernel_launcher.py:6: SettingWithCopyWarning: \n",
      "A value is trying to be set on a copy of a slice from a DataFrame\n",
      "\n",
      "See the caveats in the documentation: http://pandas.pydata.org/pandas-docs/stable/user_guide/indexing.html#returning-a-view-versus-a-copy\n",
      "  \n"
     ]
    },
    {
     "data": {
      "image/png": "[encoded data removed]",
      "text/plain": [
       "<Figure size 432x288 with 1 Axes>"
      ]
     },
     "metadata": {},
     "output_type": "display_data"
    }
   ],
   "source": [
    "age_temp = data['Age']\n",
    "for i in range(len(age_temp)):\n",
    "    if 13 <= age_temp[i] <= 18:\n",
    "        age_temp[i] = \"13 - 18 Years Old\"\n",
    "    elif 19 <= age_temp[i] <= 25:\n",
    "        age_temp[i] = \"19 - 25 Years Old\"\n",
    "    elif 25 <= age_temp[i] <= 50:\n",
    "        age_temp[i] = \"25 - 50 Years Old\"\n",
    "    else:\n",
    "        age_temp[i] = \"Over 50 Years Old\"\n",
    "\n",
    "plt.pie(data['Age'].value_counts(), labels=[\"19 - 25 Years Old\",\"13 - 18 Years Old\",\"25 - 50 Years Old\"], autopct='%1.1f%%')\n",
    "plt.title(\"Age Group\")\n",
    "plt.show()"
   ]
  },
  {
   "cell_type": "code",
   "execution_count": 15,
   "metadata": {},
   "outputs": [
    {
     "data": {
      "text/plain": [
       "0     19 - 25 Years Old\n",
       "1     19 - 25 Years Old\n",
       "2     13 - 18 Years Old\n",
       "3     19 - 25 Years Old\n",
       "4     13 - 18 Years Old\n",
       "            ...        \n",
       "95    13 - 18 Years Old\n",
       "96    19 - 25 Years Old\n",
       "97    13 - 18 Years Old\n",
       "98    13 - 18 Years Old\n",
       "99    19 - 25 Years Old\n",
       "Name: Age, Length: 100, dtype: object"
      ]
     },
     "execution_count": 15,
     "metadata": {},
     "output_type": "execute_result"
    }
   ],
   "source": [
    "age_temp"
   ]
  },
  {
   "cell_type": "code",
   "execution_count": 16,
   "metadata": {},
   "outputs": [
    {
     "data": {
      "text/plain": [
       "0     19 - 25 Years Old\n",
       "1     19 - 25 Years Old\n",
       "2     13 - 18 Years Old\n",
       "3     19 - 25 Years Old\n",
       "4     13 - 18 Years Old\n",
       "            ...        \n",
       "95    13 - 18 Years Old\n",
       "96    19 - 25 Years Old\n",
       "97    13 - 18 Years Old\n",
       "98    13 - 18 Years Old\n",
       "99    19 - 25 Years Old\n",
       "Name: Age, Length: 100, dtype: object"
      ]
     },
     "execution_count": 16,
     "metadata": {},
     "output_type": "execute_result"
    }
   ],
   "source": [
    "data['Age']"
   ]
  },
  {
   "cell_type": "code",
   "execution_count": 31,
   "metadata": {},
   "outputs": [
    {
     "data": {
      "text/html": [
       "<div>\n",
       "<style scoped>\n",
       "    .dataframe tbody tr th:only-of-type {\n",
       "        vertical-align: middle;\n",
       "    }\n",
       "\n",
       "    .dataframe tbody tr th {\n",
       "        vertical-align: top;\n",
       "    }\n",
       "\n",
       "    .dataframe thead th {\n",
       "        text-align: right;\n",
       "    }\n",
       "</style>\n",
       "<table border=\"1\" class=\"dataframe\">\n",
       "  <thead>\n",
       "    <tr style=\"text-align: right;\">\n",
       "      <th></th>\n",
       "      <th>Age</th>\n",
       "      <th>Gender</th>\n",
       "      <th>Platform</th>\n",
       "      <th>Reason_Platform</th>\n",
       "      <th>Reason_Music</th>\n",
       "      <th>Music_Origin</th>\n",
       "      <th>Familiar?</th>\n",
       "      <th>Interested_ASEAN</th>\n",
       "      <th>Do you by any chance have ever listen or came across any of these?</th>\n",
       "      <th>Relaxing Instrument</th>\n",
       "      <th>AI_Consent</th>\n",
       "      <th>Interested_Download</th>\n",
       "      <th>Origin</th>\n",
       "    </tr>\n",
       "  </thead>\n",
       "  <tbody>\n",
       "    <tr>\n",
       "      <td>0</td>\n",
       "      <td>19 - 25 Years Old</td>\n",
       "      <td>Female</td>\n",
       "      <td>YouTube</td>\n",
       "      <td>Affordable Subscription Price</td>\n",
       "      <td>Lyrics and Meanings</td>\n",
       "      <td>Indonesia</td>\n",
       "      <td>Yes</td>\n",
       "      <td>Yes</td>\n",
       "      <td>Gamelan from Indonesia</td>\n",
       "      <td>Yes</td>\n",
       "      <td>Yes</td>\n",
       "      <td>Yes</td>\n",
       "      <td>Southeast Asian Country (Brunei, Cambodia, Ind...</td>\n",
       "    </tr>\n",
       "    <tr>\n",
       "      <td>1</td>\n",
       "      <td>19 - 25 Years Old</td>\n",
       "      <td>Female</td>\n",
       "      <td>Spotify</td>\n",
       "      <td>Good Interface, Affordable Subscription Price,...</td>\n",
       "      <td>Instrument &amp; Beat</td>\n",
       "      <td>Western</td>\n",
       "      <td>Yes</td>\n",
       "      <td>Yes</td>\n",
       "      <td>Gamelan from Indonesia</td>\n",
       "      <td>Yes</td>\n",
       "      <td>Yes</td>\n",
       "      <td>No</td>\n",
       "      <td>Southeast Asian Country (Brunei, Cambodia, Ind...</td>\n",
       "    </tr>\n",
       "    <tr>\n",
       "      <td>2</td>\n",
       "      <td>13 - 18 Years Old</td>\n",
       "      <td>Female</td>\n",
       "      <td>YouTube</td>\n",
       "      <td>Wide Range of Songs</td>\n",
       "      <td>Instrument &amp; Beat</td>\n",
       "      <td>Western</td>\n",
       "      <td>Yes</td>\n",
       "      <td>Yes</td>\n",
       "      <td>Gamelan from Indonesia, Ronggeng from Malaysia...</td>\n",
       "      <td>Yes</td>\n",
       "      <td>Yes</td>\n",
       "      <td>Yes</td>\n",
       "      <td>Southeast Asian Country (Brunei, Cambodia, Ind...</td>\n",
       "    </tr>\n",
       "    <tr>\n",
       "      <td>3</td>\n",
       "      <td>19 - 25 Years Old</td>\n",
       "      <td>Male</td>\n",
       "      <td>YouTube</td>\n",
       "      <td>Wide Range of Songs, Lyrics are provided</td>\n",
       "      <td>Lyrics and Meanings</td>\n",
       "      <td>Japan</td>\n",
       "      <td>Yes</td>\n",
       "      <td>Yes</td>\n",
       "      <td>Gamelan from Indonesia, Ronggeng from Malaysia...</td>\n",
       "      <td>Yes</td>\n",
       "      <td>Yes</td>\n",
       "      <td>Yes</td>\n",
       "      <td>Southeast Asian Country (Brunei, Cambodia, Ind...</td>\n",
       "    </tr>\n",
       "    <tr>\n",
       "      <td>4</td>\n",
       "      <td>13 - 18 Years Old</td>\n",
       "      <td>Female</td>\n",
       "      <td>Spotify</td>\n",
       "      <td>Lyrics are provided</td>\n",
       "      <td>Lyrics and Meanings</td>\n",
       "      <td>Western</td>\n",
       "      <td>Yes</td>\n",
       "      <td>Yes</td>\n",
       "      <td>Lao Phene from Laos, Caklempong from Malaysia</td>\n",
       "      <td>Yes</td>\n",
       "      <td>Yes</td>\n",
       "      <td>Yes</td>\n",
       "      <td>Southeast Asian Country (Brunei, Cambodia, Ind...</td>\n",
       "    </tr>\n",
       "    <tr>\n",
       "      <td>...</td>\n",
       "      <td>...</td>\n",
       "      <td>...</td>\n",
       "      <td>...</td>\n",
       "      <td>...</td>\n",
       "      <td>...</td>\n",
       "      <td>...</td>\n",
       "      <td>...</td>\n",
       "      <td>...</td>\n",
       "      <td>...</td>\n",
       "      <td>...</td>\n",
       "      <td>...</td>\n",
       "      <td>...</td>\n",
       "      <td>...</td>\n",
       "    </tr>\n",
       "    <tr>\n",
       "      <td>95</td>\n",
       "      <td>13 - 18 Years Old</td>\n",
       "      <td>Male</td>\n",
       "      <td>Spotify</td>\n",
       "      <td>Good Interface, Personalised Recommendations, ...</td>\n",
       "      <td>Instrument &amp; Beat</td>\n",
       "      <td>Western</td>\n",
       "      <td>No</td>\n",
       "      <td>No</td>\n",
       "      <td>Gamelan from Indonesia</td>\n",
       "      <td>Yes</td>\n",
       "      <td>Yes</td>\n",
       "      <td>Yes</td>\n",
       "      <td>Southeast Asian Country (Brunei, Cambodia, Ind...</td>\n",
       "    </tr>\n",
       "    <tr>\n",
       "      <td>96</td>\n",
       "      <td>19 - 25 Years Old</td>\n",
       "      <td>Male</td>\n",
       "      <td>Spotify</td>\n",
       "      <td>Affordable Subscription Price, Wide Range of S...</td>\n",
       "      <td>Lyrics and Meanings</td>\n",
       "      <td>South Korea</td>\n",
       "      <td>Yes</td>\n",
       "      <td>Yes</td>\n",
       "      <td>Gamelan from Indonesia</td>\n",
       "      <td>Yes</td>\n",
       "      <td>Yes</td>\n",
       "      <td>Yes</td>\n",
       "      <td>Southeast Asian Country (Brunei, Cambodia, Ind...</td>\n",
       "    </tr>\n",
       "    <tr>\n",
       "      <td>97</td>\n",
       "      <td>13 - 18 Years Old</td>\n",
       "      <td>Male</td>\n",
       "      <td>Spotify</td>\n",
       "      <td>Good Interface, Personalised Recommendations, ...</td>\n",
       "      <td>Suitable Vocals</td>\n",
       "      <td>Western</td>\n",
       "      <td>Yes</td>\n",
       "      <td>Yes</td>\n",
       "      <td>Gamelan from Indonesia</td>\n",
       "      <td>Yes</td>\n",
       "      <td>Yes</td>\n",
       "      <td>Yes</td>\n",
       "      <td>Southeast Asian Country (Brunei, Cambodia, Ind...</td>\n",
       "    </tr>\n",
       "    <tr>\n",
       "      <td>98</td>\n",
       "      <td>13 - 18 Years Old</td>\n",
       "      <td>Male</td>\n",
       "      <td>YouTube</td>\n",
       "      <td>Good Interface, Personalised Recommendations, ...</td>\n",
       "      <td>Instrument &amp; Beat</td>\n",
       "      <td>Western</td>\n",
       "      <td>No</td>\n",
       "      <td>No</td>\n",
       "      <td>NaN</td>\n",
       "      <td>Yes</td>\n",
       "      <td>Yes</td>\n",
       "      <td>No</td>\n",
       "      <td>Southeast Asian Country (Brunei, Cambodia, Ind...</td>\n",
       "    </tr>\n",
       "    <tr>\n",
       "      <td>99</td>\n",
       "      <td>19 - 25 Years Old</td>\n",
       "      <td>Male</td>\n",
       "      <td>YouTube</td>\n",
       "      <td>Good Interface, Personalised Recommendations, ...</td>\n",
       "      <td>Instrument &amp; Beat</td>\n",
       "      <td>Indonesia</td>\n",
       "      <td>No</td>\n",
       "      <td>No</td>\n",
       "      <td>Gamelan from Indonesia, Caklempong from Malaysia</td>\n",
       "      <td>Yes</td>\n",
       "      <td>Yes</td>\n",
       "      <td>Yes</td>\n",
       "      <td>Southeast Asian Country (Brunei, Cambodia, Ind...</td>\n",
       "    </tr>\n",
       "  </tbody>\n",
       "</table>\n",
       "<p>100 rows × 13 columns</p>\n",
       "</div>"
      ],
      "text/plain": [
       "                  Age  Gender Platform  \\\n",
       "0   19 - 25 Years Old  Female  YouTube   \n",
       "1   19 - 25 Years Old  Female  Spotify   \n",
       "2   13 - 18 Years Old  Female  YouTube   \n",
       "3   19 - 25 Years Old    Male  YouTube   \n",
       "4   13 - 18 Years Old  Female  Spotify   \n",
       "..                ...     ...      ...   \n",
       "95  13 - 18 Years Old    Male  Spotify   \n",
       "96  19 - 25 Years Old    Male  Spotify   \n",
       "97  13 - 18 Years Old    Male  Spotify   \n",
       "98  13 - 18 Years Old    Male  YouTube   \n",
       "99  19 - 25 Years Old    Male  YouTube   \n",
       "\n",
       "                                      Reason_Platform         Reason_Music  \\\n",
       "0                       Affordable Subscription Price  Lyrics and Meanings   \n",
       "1   Good Interface, Affordable Subscription Price,...    Instrument & Beat   \n",
       "2                                 Wide Range of Songs    Instrument & Beat   \n",
       "3            Wide Range of Songs, Lyrics are provided  Lyrics and Meanings   \n",
       "4                                 Lyrics are provided  Lyrics and Meanings   \n",
       "..                                                ...                  ...   \n",
       "95  Good Interface, Personalised Recommendations, ...    Instrument & Beat   \n",
       "96  Affordable Subscription Price, Wide Range of S...  Lyrics and Meanings   \n",
       "97  Good Interface, Personalised Recommendations, ...      Suitable Vocals   \n",
       "98  Good Interface, Personalised Recommendations, ...    Instrument & Beat   \n",
       "99  Good Interface, Personalised Recommendations, ...    Instrument & Beat   \n",
       "\n",
       "   Music_Origin Familiar? Interested_ASEAN  \\\n",
       "0     Indonesia       Yes              Yes   \n",
       "1       Western       Yes              Yes   \n",
       "2       Western       Yes              Yes   \n",
       "3         Japan       Yes              Yes   \n",
       "4       Western       Yes              Yes   \n",
       "..          ...       ...              ...   \n",
       "95      Western        No               No   \n",
       "96  South Korea       Yes              Yes   \n",
       "97      Western       Yes              Yes   \n",
       "98      Western        No               No   \n",
       "99    Indonesia        No               No   \n",
       "\n",
       "   Do you by any chance have ever listen or came across any of these?  \\\n",
       "0                              Gamelan from Indonesia                   \n",
       "1                              Gamelan from Indonesia                   \n",
       "2   Gamelan from Indonesia, Ronggeng from Malaysia...                   \n",
       "3   Gamelan from Indonesia, Ronggeng from Malaysia...                   \n",
       "4       Lao Phene from Laos, Caklempong from Malaysia                   \n",
       "..                                                ...                   \n",
       "95                             Gamelan from Indonesia                   \n",
       "96                             Gamelan from Indonesia                   \n",
       "97                             Gamelan from Indonesia                   \n",
       "98                                                NaN                   \n",
       "99   Gamelan from Indonesia, Caklempong from Malaysia                   \n",
       "\n",
       "   Relaxing Instrument AI_Consent Interested_Download  \\\n",
       "0                  Yes        Yes                 Yes   \n",
       "1                  Yes        Yes                  No   \n",
       "2                  Yes        Yes                 Yes   \n",
       "3                  Yes        Yes                 Yes   \n",
       "4                  Yes        Yes                 Yes   \n",
       "..                 ...        ...                 ...   \n",
       "95                 Yes        Yes                 Yes   \n",
       "96                 Yes        Yes                 Yes   \n",
       "97                 Yes        Yes                 Yes   \n",
       "98                 Yes        Yes                  No   \n",
       "99                 Yes        Yes                 Yes   \n",
       "\n",
       "                                               Origin  \n",
       "0   Southeast Asian Country (Brunei, Cambodia, Ind...  \n",
       "1   Southeast Asian Country (Brunei, Cambodia, Ind...  \n",
       "2   Southeast Asian Country (Brunei, Cambodia, Ind...  \n",
       "3   Southeast Asian Country (Brunei, Cambodia, Ind...  \n",
       "4   Southeast Asian Country (Brunei, Cambodia, Ind...  \n",
       "..                                                ...  \n",
       "95  Southeast Asian Country (Brunei, Cambodia, Ind...  \n",
       "96  Southeast Asian Country (Brunei, Cambodia, Ind...  \n",
       "97  Southeast Asian Country (Brunei, Cambodia, Ind...  \n",
       "98  Southeast Asian Country (Brunei, Cambodia, Ind...  \n",
       "99  Southeast Asian Country (Brunei, Cambodia, Ind...  \n",
       "\n",
       "[100 rows x 13 columns]"
      ]
     },
     "execution_count": 31,
     "metadata": {},
     "output_type": "execute_result"
    }
   ],
   "source": [
    "data"
   ]
  },
  {
   "cell_type": "code",
   "execution_count": 40,
   "metadata": {},
   "outputs": [
    {
     "data": {
      "text/plain": [
       "Gamelan from Indonesia                                                                              63\n",
       "Gamelan from Indonesia, Ronggeng from Malaysia                                                       5\n",
       "Gamelan from Indonesia, Caklempong from Malaysia                                                     5\n",
       "Gamelan from Indonesia, Gendang Tabur from Brunei, T'rung from Vietnam                               3\n",
       "Gamelan from Indonesia, Gendang Tabur from Brunei                                                    2\n",
       "Gamelan from Indonesia, Ronggeng from Malaysia, Gendang Tabur from Brunei                            2\n",
       "Gamelan from Indonesia, Nat Pwe from Myanmar, Luk Thung from Thailand, T'rung from Vietnam           1\n",
       "Gamelan from Indonesia, Gendang Tabur from Brunei, T'rung from Vietnam, Caklempong from Malaysia     1\n",
       "Gamelan from Indonesia, Kedayan from Brunei, Ronggeng from Malaysia                                  1\n",
       "Gamelan from Indonesia, Ronggeng from Malaysia, Caklempong from Malaysia                             1\n",
       "Gamelan from Indonesia, Ca Tru from Vietnam, Ronggeng from Malaysia                                  1\n",
       "Lao Phene from Laos, Caklempong from Malaysia                                                        1\n",
       "Gamelan from Indonesia, Ronggeng from Malaysia, Gendang Tabur from Brunei, Tumpong from Filipina     1\n",
       "Gamelan from Indonesia, Khmer from Cambodia, Ronggeng from Malaysia, Gendang Tabur from Brunei       1\n",
       "Gamelan from Indonesia, Ronggeng from Malaysia, T'rung from Vietnam, Caklempong from Malaysia        1\n",
       "Name: Do you by any chance have ever listen or came across any of these?, dtype: int64"
      ]
     },
     "execution_count": 40,
     "metadata": {},
     "output_type": "execute_result"
    }
   ],
   "source": [
    "data[\"Do you by any chance have ever listen or came across any of these?\"].value_counts()"
   ]
  },
  {
   "cell_type": "code",
   "execution_count": 105,
   "metadata": {},
   "outputs": [
    {
     "data": {
      "text/plain": [
       "95                              Gamelan from Indonesia\n",
       "96                              Gamelan from Indonesia\n",
       "97                              Gamelan from Indonesia\n",
       "98                                                 NaN\n",
       "99    Gamelan from Indonesia, Caklempong from Malaysia\n",
       "Name: Do you by any chance have ever listen or came across any of these?, dtype: object"
      ]
     },
     "execution_count": 105,
     "metadata": {},
     "output_type": "execute_result"
    }
   ],
   "source": [
    "have_heard.isna()"
   ]
  },
  {
   "cell_type": "code",
   "execution_count": 109,
   "metadata": {},
   "outputs": [
    {
     "data": {
      "text/plain": [
       "<matplotlib.axes._subplots.AxesSubplot at 0x7f7f1025ec50>"
      ]
     },
     "execution_count": 109,
     "metadata": {},
     "output_type": "execute_result"
    },
    {
     "data": {
      "image/png": "[encoded data removed]",
      "text/plain": [
       "<Figure size 432x288 with 1 Axes>"
      ]
     },
     "metadata": {
      "needs_background": "light"
     },
     "output_type": "display_data"
    }
   ],
   "source": [
    "have_heard = data[\"Do you by any chance have ever listen or came across any of these?\"]\n",
    "\n",
    "count_dict = {}\n",
    "for x in have_heard:\n",
    "    if type(x) == str:\n",
    "        if ',' in x:\n",
    "            temp_list = x.split(',')\n",
    "            for music in temp_list:\n",
    "                if music.strip() in count_dict:\n",
    "                    count_dict[music.strip()] += 1\n",
    "                else:\n",
    "                    count_dict[music.strip()] = 1\n",
    "        else:\n",
    "            if x.strip() in count_dict:\n",
    "                count_dict[x.strip()] += 1\n",
    "            else:\n",
    "                count_dict[x.strip()] = 1\n",
    "                \n",
    "index = list(count_dict.keys())\n",
    "count = list(count_dict.values())\n",
    "\n",
    "sns.barplot(y=index, x=count)"
   ]
  },
  {
   "cell_type": "code",
   "execution_count": 106,
   "metadata": {},
   "outputs": [
    {
     "data": {
      "text/plain": [
       "{'Gamelan from Indonesia': 88,\n",
       " 'Ronggeng from Malaysia': 13,\n",
       " 'Caklempong from Malaysia': 9,\n",
       " 'Gendang Tabur from Brunei': 10,\n",
       " 'Tumpong from Filipina': 1,\n",
       " 'Lao Phene from Laos': 1,\n",
       " \"T'rung from Vietnam\": 6,\n",
       " 'Khmer from Cambodia': 1,\n",
       " 'Nat Pwe from Myanmar': 1,\n",
       " 'Luk Thung from Thailand': 1,\n",
       " 'Kedayan from Brunei': 1,\n",
       " 'Ca Tru from Vietnam': 1}"
      ]
     },
     "execution_count": 106,
     "metadata": {},
     "output_type": "execute_result"
    }
   ],
   "source": [
    "count_dict"
   ]
  },
  {
   "cell_type": "code",
   "execution_count": 101,
   "metadata": {},
   "outputs": [
    {
     "data": {
      "text/plain": [
       "<matplotlib.axes._subplots.AxesSubplot at 0x7f7f0fe11750>"
      ]
     },
     "execution_count": 101,
     "metadata": {},
     "output_type": "execute_result"
    },
    {
     "data": {
      "image/png": "[encoded data removed]",
      "text/plain": [
       "<Figure size 432x288 with 1 Axes>"
      ]
     },
     "metadata": {
      "needs_background": "light"
     },
     "output_type": "display_data"
    }
   ],
   "source": [
    "index = list(count_dict.keys())\n",
    "count = list(count_dict.values())\n",
    "\n",
    "sns.barplot(y=index, x=count)"
   ]
  },
  {
   "cell_type": "code",
   "execution_count": 63,
   "metadata": {},
   "outputs": [
    {
     "data": {
      "text/plain": [
       "{'Gamelan from Indonesia': 88,\n",
       " 'Ronggeng from Malaysia': 13,\n",
       " 'Caklempong from Malaysia': 9,\n",
       " 'Gendang Tabur from Brunei': 10,\n",
       " 'Tumpong from Filipina': 1,\n",
       " 'Lao Phene from Laos': 1,\n",
       " \"T'rung from Vietnam\": 6,\n",
       " 'Khmer from Cambodia': 1,\n",
       " 'Nat Pwe from Myanmar': 1,\n",
       " 'Luk Thung from Thailand': 1,\n",
       " 'Kedayan from Brunei': 1,\n",
       " 'Ca Tru from Vietnam': 1}"
      ]
     },
     "execution_count": 63,
     "metadata": {},
     "output_type": "execute_result"
    }
   ],
   "source": [
    "count_dict"
   ]
  },
  {
   "cell_type": "code",
   "execution_count": 70,
   "metadata": {},
   "outputs": [
    {
     "data": {
      "text/plain": [
       "(['Gamelan from Indonesia',\n",
       "  'Ronggeng from Malaysia',\n",
       "  'Caklempong from Malaysia',\n",
       "  'Gendang Tabur from Brunei',\n",
       "  'Tumpong from Filipina',\n",
       "  'Lao Phene from Laos',\n",
       "  \"T'rung from Vietnam\",\n",
       "  'Khmer from Cambodia',\n",
       "  'Nat Pwe from Myanmar',\n",
       "  'Luk Thung from Thailand',\n",
       "  'Kedayan from Brunei',\n",
       "  'Ca Tru from Vietnam'],\n",
       " [88, 13, 9, 10, 1, 1, 6, 1, 1, 1, 1, 1])"
      ]
     },
     "execution_count": 70,
     "metadata": {},
     "output_type": "execute_result"
    }
   ],
   "source": [
    "index, count"
   ]
  },
  {
   "cell_type": "code",
   "execution_count": 74,
   "metadata": {},
   "outputs": [],
   "source": [
    "df_count_heard = pd.DataFrame(index=index, columns={'count':count})"
   ]
  },
  {
   "cell_type": "code",
   "execution_count": 77,
   "metadata": {},
   "outputs": [],
   "source": [
    "df_count_heard['count'] = count"
   ]
  },
  {
   "cell_type": "code",
   "execution_count": 81,
   "metadata": {},
   "outputs": [
    {
     "data": {
      "text/html": [
       "<div>\n",
       "<style scoped>\n",
       "    .dataframe tbody tr th:only-of-type {\n",
       "        vertical-align: middle;\n",
       "    }\n",
       "\n",
       "    .dataframe tbody tr th {\n",
       "        vertical-align: top;\n",
       "    }\n",
       "\n",
       "    .dataframe thead th {\n",
       "        text-align: right;\n",
       "    }\n",
       "</style>\n",
       "<table border=\"1\" class=\"dataframe\">\n",
       "  <thead>\n",
       "    <tr style=\"text-align: right;\">\n",
       "      <th></th>\n",
       "      <th>count</th>\n",
       "    </tr>\n",
       "  </thead>\n",
       "  <tbody>\n",
       "    <tr>\n",
       "      <td>Gamelan from Indonesia</td>\n",
       "      <td>88</td>\n",
       "    </tr>\n",
       "    <tr>\n",
       "      <td>Ronggeng from Malaysia</td>\n",
       "      <td>13</td>\n",
       "    </tr>\n",
       "    <tr>\n",
       "      <td>Caklempong from Malaysia</td>\n",
       "      <td>9</td>\n",
       "    </tr>\n",
       "    <tr>\n",
       "      <td>Gendang Tabur from Brunei</td>\n",
       "      <td>10</td>\n",
       "    </tr>\n",
       "    <tr>\n",
       "      <td>Tumpong from Filipina</td>\n",
       "      <td>1</td>\n",
       "    </tr>\n",
       "    <tr>\n",
       "      <td>Lao Phene from Laos</td>\n",
       "      <td>1</td>\n",
       "    </tr>\n",
       "    <tr>\n",
       "      <td>T'rung from Vietnam</td>\n",
       "      <td>6</td>\n",
       "    </tr>\n",
       "    <tr>\n",
       "      <td>Khmer from Cambodia</td>\n",
       "      <td>1</td>\n",
       "    </tr>\n",
       "    <tr>\n",
       "      <td>Nat Pwe from Myanmar</td>\n",
       "      <td>1</td>\n",
       "    </tr>\n",
       "    <tr>\n",
       "      <td>Luk Thung from Thailand</td>\n",
       "      <td>1</td>\n",
       "    </tr>\n",
       "    <tr>\n",
       "      <td>Kedayan from Brunei</td>\n",
       "      <td>1</td>\n",
       "    </tr>\n",
       "    <tr>\n",
       "      <td>Ca Tru from Vietnam</td>\n",
       "      <td>1</td>\n",
       "    </tr>\n",
       "  </tbody>\n",
       "</table>\n",
       "</div>"
      ],
      "text/plain": [
       "                           count\n",
       "Gamelan from Indonesia        88\n",
       "Ronggeng from Malaysia        13\n",
       "Caklempong from Malaysia       9\n",
       "Gendang Tabur from Brunei     10\n",
       "Tumpong from Filipina          1\n",
       "Lao Phene from Laos            1\n",
       "T'rung from Vietnam            6\n",
       "Khmer from Cambodia            1\n",
       "Nat Pwe from Myanmar           1\n",
       "Luk Thung from Thailand        1\n",
       "Kedayan from Brunei            1\n",
       "Ca Tru from Vietnam            1"
      ]
     },
     "execution_count": 81,
     "metadata": {},
     "output_type": "execute_result"
    }
   ],
   "source": [
    "df_count_heard"
   ]
  },
  {
   "cell_type": "code",
   "execution_count": 99,
   "metadata": {},
   "outputs": [
    {
     "data": {
      "text/plain": [
       "<matplotlib.axes._subplots.AxesSubplot at 0x7f7f0f6742d0>"
      ]
     },
     "execution_count": 99,
     "metadata": {},
     "output_type": "execute_result"
    },
    {
     "data": {
      "image/png": "[encoded data removed]",
      "text/plain": [
       "<Figure size 432x288 with 1 Axes>"
      ]
     },
     "metadata": {
      "needs_background": "light"
     },
     "output_type": "display_data"
    }
   ],
   "source": []
  },
  {
   "cell_type": "code",
   "execution_count": null,
   "metadata": {},
   "outputs": [],
   "source": []
  }
 ],
 "metadata": {
  "kernelspec": {
   "display_name": "Python 3",
   "language": "python",
   "name": "python3"
  },
  "language_info": {
   "codemirror_mode": {
    "name": "ipython",
    "version": 3
   },
   "file_extension": ".py",
   "mimetype": "text/x-python",
   "name": "python",
   "nbconvert_exporter": "python",
   "pygments_lexer": "ipython3",
   "version": "3.7.4"
  }
 },
 "nbformat": 4,
 "nbformat_minor": 2
}
